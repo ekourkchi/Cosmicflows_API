{
 "cells": [
  {
   "cell_type": "markdown",
   "metadata": {},
   "source": [
    "# Cosmicflows Distance-Velocity API\n",
    "\n",
    "This notebook explains how you can simply interact with Cosmicflows calculators within your *Python* code.\n",
    "\n",
    "**Note:** This API can be also queried in any programming language of choice.\n",
    "\n",
    "- Communication method: POST, GET\n",
    "- Input data: JSON \n",
    "\n",
    "**NAM DV-calculator API:** http://edd.ifa.hawaii.edu/NAMcalculator/api.php\n",
    "\n",
    "**CF3 DV-calculator API:** http://edd.ifa.hawaii.edu/CF3calculator/api.php"
   ]
  },
  {
   "cell_type": "markdown",
   "metadata": {},
   "source": [
    "### Copy the following function into your code"
   ]
  },
  {
   "cell_type": "markdown",
   "metadata": {},
   "source": [
    "The following code snippet provides an interface function to query each of the calculators.\n",
    "\n",
    "Required python packages:\n",
    "\n",
    "- requests (to handle the online API requests)\n",
    "- json (to translate between Python dictionaries and json format)"
   ]
  },
  {
   "cell_type": "code",
   "execution_count": 1,
   "metadata": {},
   "outputs": [],
   "source": [
    "import requests\n",
    "import json\n",
    "\n",
    "def DVcalculator(alpha, delta, system='supergalactic', parameter='distance', value=20, calculator='NAM'):\n",
    "    \n",
    "    \"\"\"\n",
    "    Inputs: \n",
    "        alpha: (float) [deg]\n",
    "            first coordinate parameter  (RA,  Glon, SGL)\n",
    "        delta: (float) [deg]\n",
    "            second coordinate parameter (Dec, Glat, SGB)  \n",
    "        system: (string)\n",
    "            coordinate system: \n",
    "            Options are:\n",
    "                \"equatorial\"\n",
    "                \"galactic\"\n",
    "                \"supergalactic\"\n",
    "        parameter: (string)\n",
    "            the quantity whose value is provided\n",
    "            Options are:\n",
    "                \"distance\"\n",
    "                \"velocity\"\n",
    "        value: (float)\n",
    "            the value of the input quantity\n",
    "            distance in [Mpc] and velocity in [km/s]\n",
    "            \n",
    "        calcualtor: desired Cosmicflows caluclator\n",
    "            Options are:\n",
    "                \"NAM\" to query the calcualtor at http://edd.ifa.hawaii.edu/NAMcalculator\n",
    "                \"CF3\" to query the calcualtor at http://edd.ifa.hawaii.edu/CF3calculator\n",
    "        \n",
    "    Output:\n",
    "        A python dictionary which contains the distance and velocity of the \n",
    "        given object and the coordinate of the object in different systems\n",
    "\n",
    "    \"\"\"\n",
    "    \n",
    "    coordinate = [float(alpha), float(delta)]\n",
    "    query  = {\n",
    "              'coordinate': coordinate,\n",
    "              'system': system,\n",
    "              'parameter': parameter,\n",
    "              'value': float(value)\n",
    "             }\n",
    "    headers = {'Content-type': 'application/json'}\n",
    "    \n",
    "    API_url = 'http://edd.ifa.hawaii.edu/'+calculator+'calculator/api.php'\n",
    "    \n",
    "    try:\n",
    "        r = requests.get(API_url, data=json.dumps(query), headers=headers)\n",
    "        output = json.loads(r.text) # a python dictionary\n",
    "    except:\n",
    "        print(\"Something went wrong!\")  \n",
    "        print(\"Please check your intput parameters ...\")\n",
    "        output = None\n",
    "\n",
    "    return output"
   ]
  },
  {
   "cell_type": "markdown",
   "metadata": {},
   "source": [
    "## Example 1"
   ]
  },
  {
   "cell_type": "markdown",
   "metadata": {},
   "source": [
    "### Sending a request to the NAM D-V calcualtor (d < 38 Mpc)\n",
    "http://edd.ifa.hawaii.edu/NAMcalculator\n",
    "\n",
    "<img src=\"./nam_demo.png\" style=\"width: 120%\">\n",
    "\n",
    "\n",
    "**Here is how to send the same request in a Python code:**\n",
    "\n",
    "    SGL = 102 deg\n",
    "    SGB = -2 deg\n",
    "    Coordinate system = supergalactic\n",
    "    input velocity = 1000 km/s"
   ]
  },
  {
   "cell_type": "code",
   "execution_count": 2,
   "metadata": {},
   "outputs": [
    {
     "data": {
      "text/plain": [
       "{'message': 'Success',\n",
       " 'RA': 187.7891703346409,\n",
       " 'Dec': 13.333860121247609,\n",
       " 'Glon': 282.9654677357161,\n",
       " 'Glat': 75.4136002414933,\n",
       " 'SGL': 102.0,\n",
       " 'SGB': -2.0,\n",
       " 'velocity': 1000.0,\n",
       " 'distance': [8.08088612690689, 18.786290885088945, 22.097850275812398]}"
      ]
     },
     "execution_count": 2,
     "metadata": {},
     "output_type": "execute_result"
    }
   ],
   "source": [
    "example_1 = DVcalculator(102, -2, system='supergalactic', parameter='velocity', value=1000, calculator='NAM')\n",
    "\n",
    "example_1"
   ]
  },
  {
   "cell_type": "markdown",
   "metadata": {},
   "source": [
    "Here, **example_1** is a Python dictionray. The keys of the output dictionary are self explanatory.\n",
    "\n",
    "There is an additional key, **message** that holds the message of the backend code that generates the output values. In case of an unsuccessful API, *message* holds the cause of error that helps to correct the mistaken outputs.\n",
    "\n",
    "In the following cell we show how to extract distance from the output of the calucaltor. Please *note* that the generated distance is always provided as a list, becuase multiple distances can be associated to one radial velocity."
   ]
  },
  {
   "cell_type": "code",
   "execution_count": 3,
   "metadata": {},
   "outputs": [
    {
     "data": {
      "text/plain": [
       "[8.08088612690689, 18.786290885088945, 22.097850275812398]"
      ]
     },
     "execution_count": 3,
     "metadata": {},
     "output_type": "execute_result"
    }
   ],
   "source": [
    "distance_1 = example_1[\"distance\"]\n",
    "\n",
    "distance_1"
   ]
  },
  {
   "cell_type": "markdown",
   "metadata": {},
   "source": [
    "## Example 2\n",
    "\n",
    "\n",
    "**How to extract the radial velocity of an object with a given distance**\n",
    "\n",
    "    SGL = 102 deg\n",
    "    SGB = -2 deg\n",
    "    Coordinate system = supergalactic\n",
    "    input distance = 30 Mpc\n",
    "    Calculator: NAM (http://edd.ifa.hawaii.edu/NAMcalculator)"
   ]
  },
  {
   "cell_type": "code",
   "execution_count": 4,
   "metadata": {},
   "outputs": [
    {
     "data": {
      "text/plain": [
       "{'message': 'Success',\n",
       " 'RA': 187.7891703346409,\n",
       " 'Dec': 13.333860121247609,\n",
       " 'Glon': 282.9654677357161,\n",
       " 'Glat': 75.4136002414933,\n",
       " 'SGL': 102.0,\n",
       " 'SGB': -2.0,\n",
       " 'velocity': 1790.9019256321444,\n",
       " 'distance': [30.0]}"
      ]
     },
     "execution_count": 4,
     "metadata": {},
     "output_type": "execute_result"
    }
   ],
   "source": [
    "example_2 = DVcalculator(102, -2, system='supergalactic', parameter='distance', value=30, calculator='NAM')\n",
    "\n",
    "example_2"
   ]
  },
  {
   "cell_type": "markdown",
   "metadata": {},
   "source": [
    "## Example 3\n",
    "\n",
    "### Sending a request to the Cosmicflows-3 D-V calcualtor (d < 200 Mpc)\n",
    "http://edd.ifa.hawaii.edu/CF3calculator\n",
    "\n",
    "<img src=\"./cf3_demo.png\" style=\"width: 75%\">\n",
    "\n",
    "\n",
    "**Here is how to send the same request in a Python code:**\n",
    "\n",
    "    Glon = 283 deg\n",
    "    Glat = 75 deg\n",
    "    Coordinate system = galactic\n",
    "    input velocity = 9000 km/s"
   ]
  },
  {
   "cell_type": "code",
   "execution_count": 5,
   "metadata": {},
   "outputs": [
    {
     "data": {
      "text/plain": [
       "{'message': 'Success',\n",
       " 'RA': 187.66534187250852,\n",
       " 'Dec': 12.938131149621988,\n",
       " 'Glon': 283.0,\n",
       " 'Glat': 75.0,\n",
       " 'SGL': 102.34474779489476,\n",
       " 'SGB': -2.229027957763543,\n",
       " 'observed': {'velocity': 9000.0, 'distance': [136.90134347390065]},\n",
       " 'adjusted': {'velocity': 9000.0, 'distance': [134.26214472224996]}}"
      ]
     },
     "execution_count": 5,
     "metadata": {},
     "output_type": "execute_result"
    }
   ],
   "source": [
    "example_3 = DVcalculator(283, 75, system='galactic', parameter='velocity', value=9000, calculator='CF3')\n",
    "\n",
    "example_3"
   ]
  },
  {
   "cell_type": "markdown",
   "metadata": {},
   "source": [
    "### Extracting distance given the observed velocity of $V_{ls}=9000$ km/s\n",
    "\n",
    "The output distance is always presented in a list."
   ]
  },
  {
   "cell_type": "code",
   "execution_count": 6,
   "metadata": {},
   "outputs": [
    {
     "data": {
      "text/plain": [
       "[136.90134347390065]"
      ]
     },
     "execution_count": 6,
     "metadata": {},
     "output_type": "execute_result"
    }
   ],
   "source": [
    "dist_obs = example_3[\"observed\"][\"distance\"]\n",
    "\n",
    "dist_obs"
   ]
  },
  {
   "cell_type": "markdown",
   "metadata": {},
   "source": [
    "## Example 4\n",
    "\n",
    "\n",
    "**How to obtain radial velocity for a given distance**\n",
    "\n",
    "    RA = 187 deg\n",
    "    Dec = 13 deg\n",
    "    Coordinate system = equatorial\n",
    "    input distance = 180 Mpc\n",
    "    Calculator: Cosmicflows-3 Distance–Velocity (http://edd.ifa.hawaii.edu/CF3calculator)"
   ]
  },
  {
   "cell_type": "code",
   "execution_count": 12,
   "metadata": {},
   "outputs": [
    {
     "data": {
      "text/plain": [
       "{'message': 'Success',\n",
       " 'RA': 186.99999497668534,\n",
       " 'Dec': 13.000001835269385,\n",
       " 'Glon': 280.56811463100814,\n",
       " 'Glat': 74.84475460794316,\n",
       " 'SGL': 102.09834270874016,\n",
       " 'SGB': -2.8320379440905414,\n",
       " 'observed': {'velocity': 12515.699706446017, 'distance': [180.0]},\n",
       " 'adjusted': {'velocity': 12940.58481990226, 'distance': [180.0]}}"
      ]
     },
     "execution_count": 12,
     "metadata": {},
     "output_type": "execute_result"
    }
   ],
   "source": [
    "example_4 = DVcalculator(187, 13, system='equatorial', parameter='distance', value=180, calculator='CF3')\n",
    "\n",
    "example_4"
   ]
  },
  {
   "cell_type": "code",
   "execution_count": 8,
   "metadata": {},
   "outputs": [
    {
     "name": "stdout",
     "output_type": "stream",
     "text": [
      "V_ls Observed: 12515 km/s\n",
      "V_ls Adjusted: 12940 km/s\n"
     ]
    }
   ],
   "source": [
    "Vls_observed = example_4[\"observed\"][\"velocity\"]\n",
    "Vls_adjusted = example_4[\"adjusted\"][\"velocity\"]\n",
    "\n",
    "print(\"V_ls Observed: %d km/s\"%Vls_observed)\n",
    "print(\"V_ls Adjusted: %d km/s\"%Vls_adjusted)"
   ]
  },
  {
   "cell_type": "markdown",
   "metadata": {},
   "source": [
    "# Example 5\n",
    "\n",
    "### Looping over a list of objects\n",
    "\n",
    "You can find our example input list (**test_api.csv**) [HERE](https://raw.githubusercontent.com/ekourkchi/Cosmicflows_API/main/test_api.csv)."
   ]
  },
  {
   "cell_type": "code",
   "execution_count": 9,
   "metadata": {},
   "outputs": [
    {
     "data": {
      "text/html": [
       "<div>\n",
       "<style scoped>\n",
       "    .dataframe tbody tr th:only-of-type {\n",
       "        vertical-align: middle;\n",
       "    }\n",
       "\n",
       "    .dataframe tbody tr th {\n",
       "        vertical-align: top;\n",
       "    }\n",
       "\n",
       "    .dataframe thead th {\n",
       "        text-align: right;\n",
       "    }\n",
       "</style>\n",
       "<table border=\"1\" class=\"dataframe\">\n",
       "  <thead>\n",
       "    <tr style=\"text-align: right;\">\n",
       "      <th></th>\n",
       "      <th>id</th>\n",
       "      <th>RA</th>\n",
       "      <th>Dec</th>\n",
       "      <th>Vls</th>\n",
       "    </tr>\n",
       "  </thead>\n",
       "  <tbody>\n",
       "    <tr>\n",
       "      <th>0</th>\n",
       "      <td>27</td>\n",
       "      <td>6.1965</td>\n",
       "      <td>-20.7324</td>\n",
       "      <td>16092</td>\n",
       "    </tr>\n",
       "    <tr>\n",
       "      <th>1</th>\n",
       "      <td>76</td>\n",
       "      <td>9.8597</td>\n",
       "      <td>6.7340</td>\n",
       "      <td>12139</td>\n",
       "    </tr>\n",
       "    <tr>\n",
       "      <th>2</th>\n",
       "      <td>119</td>\n",
       "      <td>14.0672</td>\n",
       "      <td>-1.2561</td>\n",
       "      <td>13460</td>\n",
       "    </tr>\n",
       "    <tr>\n",
       "      <th>3</th>\n",
       "      <td>147</td>\n",
       "      <td>17.1579</td>\n",
       "      <td>2.2684</td>\n",
       "      <td>13163</td>\n",
       "    </tr>\n",
       "    <tr>\n",
       "      <th>4</th>\n",
       "      <td>151</td>\n",
       "      <td>17.2130</td>\n",
       "      <td>-15.4072</td>\n",
       "      <td>16064</td>\n",
       "    </tr>\n",
       "    <tr>\n",
       "      <th>5</th>\n",
       "      <td>168</td>\n",
       "      <td>18.7404</td>\n",
       "      <td>0.4311</td>\n",
       "      <td>13597</td>\n",
       "    </tr>\n",
       "    <tr>\n",
       "      <th>6</th>\n",
       "      <td>189</td>\n",
       "      <td>20.8597</td>\n",
       "      <td>1.7049</td>\n",
       "      <td>9720</td>\n",
       "    </tr>\n",
       "    <tr>\n",
       "      <th>7</th>\n",
       "      <td>193</td>\n",
       "      <td>21.2814</td>\n",
       "      <td>8.6992</td>\n",
       "      <td>14676</td>\n",
       "    </tr>\n",
       "    <tr>\n",
       "      <th>8</th>\n",
       "      <td>194</td>\n",
       "      <td>21.4952</td>\n",
       "      <td>-1.3394</td>\n",
       "      <td>5495</td>\n",
       "    </tr>\n",
       "    <tr>\n",
       "      <th>9</th>\n",
       "      <td>195</td>\n",
       "      <td>21.7281</td>\n",
       "      <td>19.2139</td>\n",
       "      <td>12841</td>\n",
       "    </tr>\n",
       "  </tbody>\n",
       "</table>\n",
       "</div>"
      ],
      "text/plain": [
       "    id       RA      Dec    Vls\n",
       "0   27   6.1965 -20.7324  16092\n",
       "1   76   9.8597   6.7340  12139\n",
       "2  119  14.0672  -1.2561  13460\n",
       "3  147  17.1579   2.2684  13163\n",
       "4  151  17.2130 -15.4072  16064\n",
       "5  168  18.7404   0.4311  13597\n",
       "6  189  20.8597   1.7049   9720\n",
       "7  193  21.2814   8.6992  14676\n",
       "8  194  21.4952  -1.3394   5495\n",
       "9  195  21.7281  19.2139  12841"
      ]
     },
     "execution_count": 9,
     "metadata": {},
     "output_type": "execute_result"
    }
   ],
   "source": [
    "import pandas as pd\n",
    "import numpy as np\n",
    "\n",
    "# reading the list into a pandas dataFrame\n",
    "df = pd.read_csv(\"test_api.csv\")\n",
    "\n",
    "# modifying the headers\n",
    "for col in df.columns:\n",
    "    newcol = col.split(\"(\")[0].strip()\n",
    "    df.rename(columns={col:newcol}, inplace=True)\n",
    "    \n",
    "df"
   ]
  },
  {
   "cell_type": "markdown",
   "metadata": {},
   "source": [
    "For each object in the list, you have to make a single API call. \n",
    "Please make sure that your are feeding the correct values in each of the API calls and you are handling the exceptions properly."
   ]
  },
  {
   "cell_type": "code",
   "execution_count": 10,
   "metadata": {},
   "outputs": [
    {
     "name": "stdout",
     "output_type": "stream",
     "text": [
      "Number of objects:  10\n"
     ]
    },
    {
     "data": {
      "text/html": [
       "<div>\n",
       "<style scoped>\n",
       "    .dataframe tbody tr th:only-of-type {\n",
       "        vertical-align: middle;\n",
       "    }\n",
       "\n",
       "    .dataframe tbody tr th {\n",
       "        vertical-align: top;\n",
       "    }\n",
       "\n",
       "    .dataframe thead th {\n",
       "        text-align: right;\n",
       "    }\n",
       "</style>\n",
       "<table border=\"1\" class=\"dataframe\">\n",
       "  <thead>\n",
       "    <tr style=\"text-align: right;\">\n",
       "      <th></th>\n",
       "      <th>id</th>\n",
       "      <th>RA</th>\n",
       "      <th>Dec</th>\n",
       "      <th>Vls</th>\n",
       "      <th>distance</th>\n",
       "    </tr>\n",
       "  </thead>\n",
       "  <tbody>\n",
       "    <tr>\n",
       "      <th>0</th>\n",
       "      <td>27</td>\n",
       "      <td>6.1965</td>\n",
       "      <td>-20.7324</td>\n",
       "      <td>16092</td>\n",
       "      <td>214.131591</td>\n",
       "    </tr>\n",
       "    <tr>\n",
       "      <th>1</th>\n",
       "      <td>76</td>\n",
       "      <td>9.8597</td>\n",
       "      <td>6.7340</td>\n",
       "      <td>12139</td>\n",
       "      <td>159.250496</td>\n",
       "    </tr>\n",
       "    <tr>\n",
       "      <th>2</th>\n",
       "      <td>119</td>\n",
       "      <td>14.0672</td>\n",
       "      <td>-1.2561</td>\n",
       "      <td>13460</td>\n",
       "      <td>181.125329</td>\n",
       "    </tr>\n",
       "    <tr>\n",
       "      <th>3</th>\n",
       "      <td>147</td>\n",
       "      <td>17.1579</td>\n",
       "      <td>2.2684</td>\n",
       "      <td>13163</td>\n",
       "      <td>175.774712</td>\n",
       "    </tr>\n",
       "    <tr>\n",
       "      <th>4</th>\n",
       "      <td>151</td>\n",
       "      <td>17.2130</td>\n",
       "      <td>-15.4072</td>\n",
       "      <td>16064</td>\n",
       "      <td>217.766419</td>\n",
       "    </tr>\n",
       "    <tr>\n",
       "      <th>5</th>\n",
       "      <td>168</td>\n",
       "      <td>18.7404</td>\n",
       "      <td>0.4311</td>\n",
       "      <td>13597</td>\n",
       "      <td>183.637349</td>\n",
       "    </tr>\n",
       "    <tr>\n",
       "      <th>6</th>\n",
       "      <td>189</td>\n",
       "      <td>20.8597</td>\n",
       "      <td>1.7049</td>\n",
       "      <td>9720</td>\n",
       "      <td>128.972149</td>\n",
       "    </tr>\n",
       "    <tr>\n",
       "      <th>7</th>\n",
       "      <td>193</td>\n",
       "      <td>21.2814</td>\n",
       "      <td>8.6992</td>\n",
       "      <td>14676</td>\n",
       "      <td>200.567299</td>\n",
       "    </tr>\n",
       "    <tr>\n",
       "      <th>8</th>\n",
       "      <td>194</td>\n",
       "      <td>21.4952</td>\n",
       "      <td>-1.3394</td>\n",
       "      <td>5495</td>\n",
       "      <td>68.783092</td>\n",
       "    </tr>\n",
       "    <tr>\n",
       "      <th>9</th>\n",
       "      <td>195</td>\n",
       "      <td>21.7281</td>\n",
       "      <td>19.2139</td>\n",
       "      <td>12841</td>\n",
       "      <td>172.303999</td>\n",
       "    </tr>\n",
       "  </tbody>\n",
       "</table>\n",
       "</div>"
      ],
      "text/plain": [
       "    id       RA      Dec    Vls    distance\n",
       "0   27   6.1965 -20.7324  16092  214.131591\n",
       "1   76   9.8597   6.7340  12139  159.250496\n",
       "2  119  14.0672  -1.2561  13460  181.125329\n",
       "3  147  17.1579   2.2684  13163  175.774712\n",
       "4  151  17.2130 -15.4072  16064  217.766419\n",
       "5  168  18.7404   0.4311  13597  183.637349\n",
       "6  189  20.8597   1.7049   9720  128.972149\n",
       "7  193  21.2814   8.6992  14676  200.567299\n",
       "8  194  21.4952  -1.3394   5495   68.783092\n",
       "9  195  21.7281  19.2139  12841  172.303999"
      ]
     },
     "execution_count": 10,
     "metadata": {},
     "output_type": "execute_result"
    }
   ],
   "source": [
    "N = len(df)\n",
    "print(\"Number of objects: \", N)\n",
    "\n",
    "ra = df.RA.values    # deg\n",
    "dec = df.Dec.values  # deg\n",
    "vls = df.Vls.values  # km/s\n",
    "\n",
    "distance = np.zeros(N)\n",
    "\n",
    "# loop over the list\n",
    "for i in  range(N):\n",
    "    try: \n",
    "        output = DVcalculator(ra[i], dec[i], system='equatorial', parameter='velocity', value=vls[i], calculator='CF3')\n",
    "        distance[i] = output[\"observed\"][\"distance\"][0]\n",
    "    except:\n",
    "        distance[i] = np.nan\n",
    "\n",
    "# adding a new column that holds distances in Mpc\n",
    "df['distance'] = distance\n",
    "\n",
    "df"
   ]
  },
  {
   "cell_type": "code",
   "execution_count": 11,
   "metadata": {},
   "outputs": [],
   "source": [
    "# saving the resulting dataFrame that contains a distance column\n",
    "df.to_csv('output_api.csv')"
   ]
  },
  {
   "cell_type": "markdown",
   "metadata": {},
   "source": [
    "A copy of the output file is stored here: [output_api.csv](https://raw.githubusercontent.com/ekourkchi/Cosmicflows_API/main/output_api.csv)."
   ]
  },
  {
   "cell_type": "markdown",
   "metadata": {},
   "source": [
    "### How to acknowledge this work\n",
    "\n",
    "If you use the results of this work in your research or other applications, please cite [Kourkchi et al. 2020, AJ, 159, 67](https://ui.adsabs.harvard.edu/abs/2020AJ....159...67K/abstract)."
   ]
  }
 ],
 "metadata": {
  "kernelspec": {
   "display_name": "Python 3",
   "language": "python",
   "name": "python3"
  },
  "language_info": {
   "codemirror_mode": {
    "name": "ipython",
    "version": 3
   },
   "file_extension": ".py",
   "mimetype": "text/x-python",
   "name": "python",
   "nbconvert_exporter": "python",
   "pygments_lexer": "ipython3",
   "version": "3.8.3"
  }
 },
 "nbformat": 4,
 "nbformat_minor": 4
}
