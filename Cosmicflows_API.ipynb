{
 "cells": [
  {
   "cell_type": "markdown",
   "metadata": {},
   "source": [
    "# Cosmicflows Distance-Velocity API\n",
    "\n",
    "This notebook explains how you can simply interact with Cosmicflows calculators within your *Python* code.\n",
    "\n",
    "**Note:** This API can be also queried in any programming language of choice.\n",
    "\n",
    "- Communication method: POST, GET\n",
    "- Input data: JSON \n",
    "\n",
    "**NAM DV-calculator API:** http://edd.ifa.hawaii.edu/NAMcalculator/api.php\n",
    "\n",
    "**CF3 DV-calculator API:** http://edd.ifa.hawaii.edu/CF3calculator/api.php\n",
    "\n",
    "<img style=\"padding:5px;\" align=\"left\" src=\"new.jpg\" width=40 /> \n",
    "\n",
    "- *[2022/12/27]* Processing large lists of galaxies provided in JSON format. Below, `DVcalculator_list` facilitates the data preparation for API calls. Refer to [Example 5](#example5) in this notebook for further details. The maximum number of galaxies per query is limited to 500."
   ]
  },
  {
   "cell_type": "markdown",
   "metadata": {},
   "source": [
    "## In Python you have 2 options:\n"
   ]
  },
  {
   "cell_type": "markdown",
   "metadata": {},
   "source": [
    "### 1. pycf3 - Cosmicflows Galaxy Distance-Velocity Calculator client for Python\n",
    "\n",
    "\n",
    "- **Note:**`pycf3` is not yet processing a large list of galaxies. **Please follow the second option to process large lists of galaxies.**\n",
    "- GitHub Repository: [https://github.com/quatrope/pycf3](https://github.com/quatrope/pycf3)\n",
    "- Documentation: [https://pycf3.readthedocs.io/](https://pycf3.readthedocs.io/)\n",
    "\n",
    "<code>\n",
    "$ pip install pycf3\n",
    "</code>"
   ]
  },
  {
   "cell_type": "markdown",
   "metadata": {},
   "source": [
    "### Python Example:"
   ]
  },
  {
   "cell_type": "markdown",
   "metadata": {},
   "source": [
    "```python\n",
    "import pycf3\n",
    "cf3 = pycf3.CF3()   ## or nam = pycf3.NAM()\n",
    "result = cf3.calculate_distance(velocity=9000, glon=283, glat=75)\n",
    "print(result.observed_velocity_)\n",
    "# 9000.0\n",
    "result.observed_distance_\n",
    "# array([136.90134347])\n",
    "\n",
    "```"
   ]
  },
  {
   "cell_type": "markdown",
   "metadata": {},
   "source": [
    "### 2. Simply copy the following functions into your code\n",
    "\n",
    "The following code snippets provide interface functions to query each of the calculators.\n",
    "\n",
    "Required packages:\n",
    "\n",
    "- requests (to handle the online API requests)\n",
    "- json (to translate between Python dictionaries and json format)\n",
    "    "
   ]
  },
  {
   "cell_type": "code",
   "execution_count": 1,
   "metadata": {},
   "outputs": [],
   "source": [
    "import requests\n",
    "import json\n",
    "\n",
    "def DVcalculator(alpha, delta, system='supergalactic', \n",
    "                 parameter='distance', value=20, calculator='NAM'):\n",
    "    \n",
    "    \"\"\"\n",
    "    Inputs: \n",
    "        alpha: (float) [deg]\n",
    "            first coordinate parameter  (RA,  Glon, SGL)\n",
    "        delta: (float) [deg]\n",
    "            second coordinate parameter (Dec, Glat, SGB)  \n",
    "        system: (string)\n",
    "            coordinate system: \n",
    "            Options are:\n",
    "                \"equatorial\"\n",
    "                \"galactic\"\n",
    "                \"supergalactic\"\n",
    "        parameter: (string)\n",
    "            the quantity whose value is provided\n",
    "            Options are:\n",
    "                \"distance\"\n",
    "                \"velocity\"\n",
    "        value: (float)\n",
    "            the value of the input quantity\n",
    "            distance in [Mpc] and velocity in [km/s]\n",
    "            \n",
    "        calculator: desired Cosmicflows caluclator\n",
    "            Options are:\n",
    "                \"NAM\" to query the calculator at http://edd.ifa.hawaii.edu/NAMcalculator\n",
    "                \"CF3\" to query the calculator at http://edd.ifa.hawaii.edu/CF3calculator\n",
    "        \n",
    "    Output:\n",
    "        A python dictionary which contains the distance and velocity of the \n",
    "        given object and the coordinate of the object in different systems\n",
    "\n",
    "    \"\"\"\n",
    "    \n",
    "    coordinate = [float(alpha), float(delta)]\n",
    "    query  = {\n",
    "              'coordinate': coordinate,\n",
    "              'system': system,\n",
    "              'parameter': parameter,\n",
    "              'value': float(value)\n",
    "             }\n",
    "    headers = {'Content-type': 'application/json'}\n",
    "    \n",
    "    API_url = 'http://edd.ifa.hawaii.edu/'+calculator+'calculator/api.php'\n",
    "    \n",
    "    try:\n",
    "        r = requests.get(API_url, data=json.dumps(query), headers=headers)\n",
    "        output = json.loads(r.text) # a python dictionary\n",
    "    except:\n",
    "        print(\"Something went wrong!\")  \n",
    "        print(\"Please check your intput parameters ...\")\n",
    "        output = None\n",
    "\n",
    "    return output"
   ]
  },
  {
   "cell_type": "markdown",
   "metadata": {},
   "source": [
    "### Large lists of galaxies\n",
    "\n",
    "- The following function, makes API calls with a large list of galaxies.\n",
    "- See \"example 5\" to learn how to submit a list of galaxies and process the returned results."
   ]
  },
  {
   "cell_type": "code",
   "execution_count": 2,
   "metadata": {},
   "outputs": [],
   "source": [
    "import requests\n",
    "import json\n",
    "\n",
    "def DVcalculator_list(alpha_lst, delta_lst, system='supergalactic', \n",
    "                      parameter='distance', values=[20], calculator='NAM'):\n",
    "    \n",
    "    \"\"\"\n",
    "    Inputs: \n",
    "        alpha: [array] (float) [deg]\n",
    "            first coordinate parameter  (RA,  Glon, SGL)\n",
    "        delta: [array] (float) [deg]\n",
    "            second coordinate parameter (Dec, Glat, SGB)  \n",
    "        system: (string)\n",
    "            coordinate system: \n",
    "            Options are:\n",
    "                \"equatorial\"\n",
    "                \"galactic\"\n",
    "                \"supergalactic\"\n",
    "        parameter: (string)\n",
    "            the quantity whose value is provided\n",
    "            Options are:\n",
    "                \"distance\"\n",
    "                \"velocity\"\n",
    "        value: [array] (float)\n",
    "            the value of the input quantity\n",
    "            distance in [Mpc] and velocity in [km/s]\n",
    "            \n",
    "        calculator: desired Cosmicflows caluclator\n",
    "            Options are:\n",
    "                \"NAM\" to query the calculator at http://edd.ifa.hawaii.edu/NAMcalculator\n",
    "                \"CF3\" to query the calculator at http://edd.ifa.hawaii.edu/CF3calculator\n",
    "        \n",
    "    Output:\n",
    "        A python dictionary which contains the distance and velocity of the \n",
    "        given object and the coordinate of the object in different systems\n",
    "\n",
    "    \"\"\"\n",
    "    \n",
    "    if len(alpha_lst)!=len(delta_lst) or len(delta_lst)!=len(values):\n",
    "        return {\"message\": \"Inconsistent sizes of the input arrays !\"}\n",
    "    \n",
    "    payload = {}\n",
    "    payload[\"galaxies\"] = []\n",
    "    \n",
    "    for i in range(len(alpha_lst)):\n",
    "        \n",
    "        coordinate = [float(alpha_lst[i]), float(delta_lst[i])]\n",
    "        galDict  = {\n",
    "                  'coordinate': coordinate,\n",
    "                  'system': system,\n",
    "                  'parameter': parameter,\n",
    "                  'value': float(values[i])\n",
    "                 }\n",
    "        \n",
    "        payload[\"galaxies\"].append(galDict)\n",
    "    \n",
    "    \n",
    "    headers = {'Content-type': 'application/json'}\n",
    "    \n",
    "    API_url = 'http://edd.ifa.hawaii.edu/'+calculator+'calculator/api.php'\n",
    "    \n",
    "    try:\n",
    "        r = requests.get(API_url, data=json.dumps(payload), headers=headers)\n",
    "        output = json.loads(r.text) # a python dictionary\n",
    "    except:\n",
    "        print(\"Something went wrong!\")  \n",
    "        print(\"Please check your intput parameters ...\")\n",
    "        output = None\n",
    "\n",
    "    return output"
   ]
  },
  {
   "cell_type": "markdown",
   "metadata": {},
   "source": [
    "## Example 1"
   ]
  },
  {
   "cell_type": "markdown",
   "metadata": {},
   "source": [
    "### Sending a request to the NAM D-V calculator (d < 38 Mpc)\n",
    "http://edd.ifa.hawaii.edu/NAMcalculator\n",
    "\n",
    "<img src=\"./nam_demo.png\" style=\"width: 120%\">\n",
    "\n",
    "**Here is how to send the same request in a Python code:**\n",
    "\n",
    "    SGL = 102 deg\n",
    "    SGB = -2 deg\n",
    "    Coordinate system = supergalactic\n",
    "    input velocity = 1000 km/s\n",
    "    "
   ]
  },
  {
   "cell_type": "code",
   "execution_count": 3,
   "metadata": {},
   "outputs": [
    {
     "data": {
      "text/plain": [
       "{'message': 'Success',\n",
       " 'RA': 187.7891703346409,\n",
       " 'Dec': 13.333860121247609,\n",
       " 'Glon': 282.9654677357161,\n",
       " 'Glat': 75.4136002414933,\n",
       " 'SGL': 102.0,\n",
       " 'SGB': -2.0,\n",
       " 'velocity': 1000.0,\n",
       " 'distance': [8.08088612690689, 18.786290885088945, 22.097850275812398]}"
      ]
     },
     "execution_count": 3,
     "metadata": {},
     "output_type": "execute_result"
    }
   ],
   "source": [
    "example_1 = DVcalculator(102, -2, system='supergalactic', parameter='velocity', value=1000, calculator='NAM')\n",
    "\n",
    "example_1"
   ]
  },
  {
   "cell_type": "markdown",
   "metadata": {},
   "source": [
    "Here, **example_1** is a Python dictionary. The keys of the output dictionary are self explanatory.\n",
    "\n",
    "There is an additional key, **message** that holds the message of the backend code that generates the output values. In case of an unsuccessful API, *message* holds the cause of error that helps to correct the mistaken outputs.\n",
    "\n",
    "In the following cell we show how to extract distance from the output of the calucaltor. Please *note* that the generated distance is always provided as a list, becuase multiple distances can be associated to one radial velocity."
   ]
  },
  {
   "cell_type": "code",
   "execution_count": 4,
   "metadata": {},
   "outputs": [
    {
     "data": {
      "text/plain": [
       "[8.08088612690689, 18.786290885088945, 22.097850275812398]"
      ]
     },
     "execution_count": 4,
     "metadata": {},
     "output_type": "execute_result"
    }
   ],
   "source": [
    "distance_1 = example_1[\"distance\"]\n",
    "\n",
    "distance_1"
   ]
  },
  {
   "cell_type": "markdown",
   "metadata": {},
   "source": [
    "## Example 2\n",
    "\n",
    "\n",
    "**How to extract the radial velocity of an object with a given distance**\n",
    "\n",
    "    SGL = 102 deg\n",
    "    SGB = -2 deg\n",
    "    Coordinate system = supergalactic\n",
    "    input distance = 30 Mpc\n",
    "    Calculator: NAM (http://edd.ifa.hawaii.edu/NAMcalculator)\n",
    "    \n"
   ]
  },
  {
   "cell_type": "code",
   "execution_count": 5,
   "metadata": {},
   "outputs": [
    {
     "data": {
      "text/plain": [
       "{'message': 'Success',\n",
       " 'RA': 187.7891703346409,\n",
       " 'Dec': 13.333860121247609,\n",
       " 'Glon': 282.9654677357161,\n",
       " 'Glat': 75.4136002414933,\n",
       " 'SGL': 102.0,\n",
       " 'SGB': -2.0,\n",
       " 'velocity': 1790.9019256321444,\n",
       " 'distance': [30.0],\n",
       " 'peculiar_velocity': {'SG_Vx': -269.7,\n",
       "  'SG_Vy': -525.1999999999999,\n",
       "  'SG_Vz': 49.5}}"
      ]
     },
     "execution_count": 5,
     "metadata": {},
     "output_type": "execute_result"
    }
   ],
   "source": [
    "example_2 = DVcalculator(102, -2, system='supergalactic', parameter='distance', value=30, calculator='NAM')\n",
    "\n",
    "example_2"
   ]
  },
  {
   "cell_type": "markdown",
   "metadata": {},
   "source": [
    "## Example 3\n",
    "\n",
    "### Sending a request to the Cosmicflows-3 D-V calculator (d < 200 Mpc)\n",
    "http://edd.ifa.hawaii.edu/CF3calculator\n",
    "\n",
    "<img src=\"./cf3_demo.png\" style=\"width: 75%\">\n",
    "\n",
    "**Here is how to send the same request in a Python code:**\n",
    "\n",
    "    Glon = 283 deg\n",
    "    Glat = 75 deg\n",
    "    Coordinate system = galactic\n",
    "    input velocity = 9000 km/s\n"
   ]
  },
  {
   "cell_type": "code",
   "execution_count": 6,
   "metadata": {},
   "outputs": [
    {
     "data": {
      "text/plain": [
       "{'message': 'Success',\n",
       " 'RA': 187.66534187250852,\n",
       " 'Dec': 12.93813114962199,\n",
       " 'Glon': 283.0,\n",
       " 'Glat': 75.0,\n",
       " 'SGL': 102.34474779489476,\n",
       " 'SGB': -2.229027957763543,\n",
       " 'observed': {'velocity': 9000.0, 'distance': [136.90158190848067]},\n",
       " 'adjusted': {'velocity': 9000.0, 'distance': [134.28918415324634]}}"
      ]
     },
     "execution_count": 6,
     "metadata": {},
     "output_type": "execute_result"
    }
   ],
   "source": [
    "example_3 = DVcalculator(283, 75, system='galactic', parameter='velocity', value=9000, calculator='CF3')\n",
    "\n",
    "example_3"
   ]
  },
  {
   "cell_type": "markdown",
   "metadata": {},
   "source": [
    "### Extracting distance given the observed velocity of $V_{ls}=9000$ km/s\n",
    "\n",
    "The output distance is always presented in a list."
   ]
  },
  {
   "cell_type": "code",
   "execution_count": 7,
   "metadata": {},
   "outputs": [
    {
     "data": {
      "text/plain": [
       "[136.90158190848067]"
      ]
     },
     "execution_count": 7,
     "metadata": {},
     "output_type": "execute_result"
    }
   ],
   "source": [
    "dist_obs = example_3[\"observed\"][\"distance\"]\n",
    "\n",
    "dist_obs"
   ]
  },
  {
   "cell_type": "markdown",
   "metadata": {},
   "source": [
    "## Example 4\n",
    "\n",
    "\n",
    "**How to obtain radial velocity for a given distance**\n",
    "\n",
    "    RA = 187 deg\n",
    "    Dec = 13 deg\n",
    "    Coordinate system = equatorial\n",
    "    input distance = 180 Mpc\n",
    "    Calculator: Cosmicflows-3 Distance–Velocity (http://edd.ifa.hawaii.edu/CF3calculator)"
   ]
  },
  {
   "cell_type": "code",
   "execution_count": 8,
   "metadata": {},
   "outputs": [
    {
     "data": {
      "text/plain": [
       "{'message': 'Success',\n",
       " 'RA': 186.99999497668534,\n",
       " 'Dec': 13.000001835269384,\n",
       " 'Glon': 280.56811463100814,\n",
       " 'Glat': 74.84475460794316,\n",
       " 'SGL': 102.09834270874016,\n",
       " 'SGB': -2.832037944090537,\n",
       " 'observed': {'velocity': 12518.446129182574, 'distance': [180.0]},\n",
       " 'adjusted': {'velocity': 12943.519504123953, 'distance': [180.0]},\n",
       " 'peculiar_velocity': {'SG_Vx': -307.90822232201515,\n",
       "  'SG_Vy': -206.69065077762124,\n",
       "  'SG_Vz': -9.399998075295542}}"
      ]
     },
     "execution_count": 8,
     "metadata": {},
     "output_type": "execute_result"
    }
   ],
   "source": [
    "example_4 = DVcalculator(187, 13, system='equatorial', parameter='distance', value=180, calculator='CF3')\n",
    "\n",
    "example_4"
   ]
  },
  {
   "cell_type": "code",
   "execution_count": 9,
   "metadata": {},
   "outputs": [
    {
     "name": "stdout",
     "output_type": "stream",
     "text": [
      "V_ls Observed: 12518 km/s\n",
      "V_ls Adjusted: 12943 km/s\n"
     ]
    }
   ],
   "source": [
    "Vls_observed = example_4[\"observed\"][\"velocity\"]\n",
    "Vls_adjusted = example_4[\"adjusted\"][\"velocity\"]\n",
    "\n",
    "print(\"V_ls Observed: %d km/s\"%Vls_observed)\n",
    "print(\"V_ls Adjusted: %d km/s\"%Vls_adjusted)"
   ]
  },
  {
   "cell_type": "markdown",
   "metadata": {},
   "source": [
    "<a id='example5'></a>\n",
    "# Example 5\n",
    "\n",
    "### API call for a large list of galaxies\n",
    "\n",
    "The updated version of this API is capable of processing large list of galaxies through a single call. The maximum number of galaxies per query is limited to 500.\n",
    "\n",
    "*Hint:* You can find our example input list (**test_api.csv**) [HERE](https://raw.githubusercontent.com/ekourkchi/Cosmicflows_API/main/test_api.csv).   "
   ]
  },
  {
   "cell_type": "markdown",
   "metadata": {},
   "source": [
    "### Loading the sample data set\n",
    "\n",
    "We use `pandas` package to read data from a csv file."
   ]
  },
  {
   "cell_type": "code",
   "execution_count": 10,
   "metadata": {},
   "outputs": [
    {
     "data": {
      "text/html": [
       "<div>\n",
       "<style scoped>\n",
       "    .dataframe tbody tr th:only-of-type {\n",
       "        vertical-align: middle;\n",
       "    }\n",
       "\n",
       "    .dataframe tbody tr th {\n",
       "        vertical-align: top;\n",
       "    }\n",
       "\n",
       "    .dataframe thead th {\n",
       "        text-align: right;\n",
       "    }\n",
       "</style>\n",
       "<table border=\"1\" class=\"dataframe\">\n",
       "  <thead>\n",
       "    <tr style=\"text-align: right;\">\n",
       "      <th></th>\n",
       "      <th>id</th>\n",
       "      <th>RA</th>\n",
       "      <th>Dec</th>\n",
       "      <th>Vls</th>\n",
       "    </tr>\n",
       "  </thead>\n",
       "  <tbody>\n",
       "    <tr>\n",
       "      <th>0</th>\n",
       "      <td>27</td>\n",
       "      <td>6.1965</td>\n",
       "      <td>-20.7324</td>\n",
       "      <td>16092</td>\n",
       "    </tr>\n",
       "    <tr>\n",
       "      <th>1</th>\n",
       "      <td>76</td>\n",
       "      <td>9.8597</td>\n",
       "      <td>6.7340</td>\n",
       "      <td>12139</td>\n",
       "    </tr>\n",
       "    <tr>\n",
       "      <th>2</th>\n",
       "      <td>119</td>\n",
       "      <td>14.0672</td>\n",
       "      <td>-1.2561</td>\n",
       "      <td>13460</td>\n",
       "    </tr>\n",
       "    <tr>\n",
       "      <th>3</th>\n",
       "      <td>147</td>\n",
       "      <td>17.1579</td>\n",
       "      <td>2.2684</td>\n",
       "      <td>13163</td>\n",
       "    </tr>\n",
       "    <tr>\n",
       "      <th>4</th>\n",
       "      <td>151</td>\n",
       "      <td>17.2130</td>\n",
       "      <td>-15.4072</td>\n",
       "      <td>16064</td>\n",
       "    </tr>\n",
       "    <tr>\n",
       "      <th>5</th>\n",
       "      <td>168</td>\n",
       "      <td>18.7404</td>\n",
       "      <td>0.4311</td>\n",
       "      <td>13597</td>\n",
       "    </tr>\n",
       "    <tr>\n",
       "      <th>6</th>\n",
       "      <td>189</td>\n",
       "      <td>20.8597</td>\n",
       "      <td>1.7049</td>\n",
       "      <td>9720</td>\n",
       "    </tr>\n",
       "    <tr>\n",
       "      <th>7</th>\n",
       "      <td>193</td>\n",
       "      <td>21.2814</td>\n",
       "      <td>8.6992</td>\n",
       "      <td>14676</td>\n",
       "    </tr>\n",
       "    <tr>\n",
       "      <th>8</th>\n",
       "      <td>194</td>\n",
       "      <td>21.4952</td>\n",
       "      <td>-1.3394</td>\n",
       "      <td>5495</td>\n",
       "    </tr>\n",
       "    <tr>\n",
       "      <th>9</th>\n",
       "      <td>195</td>\n",
       "      <td>21.7281</td>\n",
       "      <td>19.2139</td>\n",
       "      <td>12841</td>\n",
       "    </tr>\n",
       "  </tbody>\n",
       "</table>\n",
       "</div>"
      ],
      "text/plain": [
       "    id       RA      Dec    Vls\n",
       "0   27   6.1965 -20.7324  16092\n",
       "1   76   9.8597   6.7340  12139\n",
       "2  119  14.0672  -1.2561  13460\n",
       "3  147  17.1579   2.2684  13163\n",
       "4  151  17.2130 -15.4072  16064\n",
       "5  168  18.7404   0.4311  13597\n",
       "6  189  20.8597   1.7049   9720\n",
       "7  193  21.2814   8.6992  14676\n",
       "8  194  21.4952  -1.3394   5495\n",
       "9  195  21.7281  19.2139  12841"
      ]
     },
     "execution_count": 10,
     "metadata": {},
     "output_type": "execute_result"
    }
   ],
   "source": [
    "import pandas as pd\n",
    "import numpy as np\n",
    "\n",
    "# reading the list into a pandas dataFrame\n",
    "data = pd.read_csv(\"test_api.csv\")\n",
    "\n",
    "# modifying the headers\n",
    "for col in data.columns:\n",
    "    newcol = col.split(\"(\")[0].strip()\n",
    "    data.rename(columns={col:newcol}, inplace=True)\n",
    "    \n",
    "data"
   ]
  },
  {
   "cell_type": "markdown",
   "metadata": {},
   "source": [
    "### Function `DVcalculator_list`\n",
    "\n",
    "- (define above) preprocesses a list of galaxies and sends a large JSON payload that includes a possibly large list of galaxies. To avoid overloading, the maximum number of galaxies per query is limited to 500.\n",
    "\n",
    "- Returned distances are stored in a list, because in some cases multiple distances are mapped into the same distance.\n",
    "\n",
    "**Note:** The returned results are presented in the JSON format. In the following cell, we assume that all queried values in the list are valid and there is no error in the output results. In this case, the output JSON results could be simply transformed to a pandas dataframe."
   ]
  },
  {
   "cell_type": "code",
   "execution_count": 11,
   "metadata": {},
   "outputs": [
    {
     "name": "stdout",
     "output_type": "stream",
     "text": [
      "Number of objects:  10\n"
     ]
    },
    {
     "data": {
      "text/html": [
       "<div>\n",
       "<style scoped>\n",
       "    .dataframe tbody tr th:only-of-type {\n",
       "        vertical-align: middle;\n",
       "    }\n",
       "\n",
       "    .dataframe tbody tr th {\n",
       "        vertical-align: top;\n",
       "    }\n",
       "\n",
       "    .dataframe thead th {\n",
       "        text-align: right;\n",
       "    }\n",
       "</style>\n",
       "<table border=\"1\" class=\"dataframe\">\n",
       "  <thead>\n",
       "    <tr style=\"text-align: right;\">\n",
       "      <th></th>\n",
       "      <th>message</th>\n",
       "      <th>RA</th>\n",
       "      <th>Dec</th>\n",
       "      <th>Glon</th>\n",
       "      <th>Glat</th>\n",
       "      <th>SGL</th>\n",
       "      <th>SGB</th>\n",
       "      <th>observed</th>\n",
       "      <th>adjusted</th>\n",
       "    </tr>\n",
       "  </thead>\n",
       "  <tbody>\n",
       "    <tr>\n",
       "      <th>0</th>\n",
       "      <td>Success</td>\n",
       "      <td>6.196496</td>\n",
       "      <td>-20.732402</td>\n",
       "      <td>77.932226</td>\n",
       "      <td>-81.172227</td>\n",
       "      <td>274.476645</td>\n",
       "      <td>1.292975</td>\n",
       "      <td>{'velocity': 16092.0, 'distance': [214.1734522...</td>\n",
       "      <td>{'velocity': 16092.0, 'distance': [203.8408030...</td>\n",
       "    </tr>\n",
       "    <tr>\n",
       "      <th>1</th>\n",
       "      <td>Success</td>\n",
       "      <td>9.859693</td>\n",
       "      <td>6.733998</td>\n",
       "      <td>117.597324</td>\n",
       "      <td>-56.013414</td>\n",
       "      <td>301.905322</td>\n",
       "      <td>5.547911</td>\n",
       "      <td>{'velocity': 12139.0, 'distance': [159.2504963...</td>\n",
       "      <td>{'velocity': 12139.0, 'distance': [152.8216983...</td>\n",
       "    </tr>\n",
       "    <tr>\n",
       "      <th>2</th>\n",
       "      <td>Success</td>\n",
       "      <td>14.067194</td>\n",
       "      <td>-1.256101</td>\n",
       "      <td>125.697225</td>\n",
       "      <td>-64.101908</td>\n",
       "      <td>295.325855</td>\n",
       "      <td>-0.641415</td>\n",
       "      <td>{'velocity': 13460.0, 'distance': [181.1253291...</td>\n",
       "      <td>{'velocity': 13460.0, 'distance': [173.4939324...</td>\n",
       "    </tr>\n",
       "    <tr>\n",
       "      <th>3</th>\n",
       "      <td>Success</td>\n",
       "      <td>17.157893</td>\n",
       "      <td>2.268399</td>\n",
       "      <td>131.629351</td>\n",
       "      <td>-60.312676</td>\n",
       "      <td>299.558624</td>\n",
       "      <td>-2.659125</td>\n",
       "      <td>{'velocity': 13163.0, 'distance': [175.7747123...</td>\n",
       "      <td>{'velocity': 13163.0, 'distance': [168.2161590...</td>\n",
       "    </tr>\n",
       "    <tr>\n",
       "      <th>4</th>\n",
       "      <td>Success</td>\n",
       "      <td>17.212995</td>\n",
       "      <td>-15.407201</td>\n",
       "      <td>142.857767</td>\n",
       "      <td>-77.600088</td>\n",
       "      <td>282.446057</td>\n",
       "      <td>-7.349658</td>\n",
       "      <td>{'velocity': 16064.0, 'distance': [217.7664188...</td>\n",
       "      <td>{'velocity': 16064.0, 'distance': [205.5030648...</td>\n",
       "    </tr>\n",
       "  </tbody>\n",
       "</table>\n",
       "</div>"
      ],
      "text/plain": [
       "   message         RA        Dec        Glon       Glat         SGL       SGB  \\\n",
       "0  Success   6.196496 -20.732402   77.932226 -81.172227  274.476645  1.292975   \n",
       "1  Success   9.859693   6.733998  117.597324 -56.013414  301.905322  5.547911   \n",
       "2  Success  14.067194  -1.256101  125.697225 -64.101908  295.325855 -0.641415   \n",
       "3  Success  17.157893   2.268399  131.629351 -60.312676  299.558624 -2.659125   \n",
       "4  Success  17.212995 -15.407201  142.857767 -77.600088  282.446057 -7.349658   \n",
       "\n",
       "                                            observed  \\\n",
       "0  {'velocity': 16092.0, 'distance': [214.1734522...   \n",
       "1  {'velocity': 12139.0, 'distance': [159.2504963...   \n",
       "2  {'velocity': 13460.0, 'distance': [181.1253291...   \n",
       "3  {'velocity': 13163.0, 'distance': [175.7747123...   \n",
       "4  {'velocity': 16064.0, 'distance': [217.7664188...   \n",
       "\n",
       "                                            adjusted  \n",
       "0  {'velocity': 16092.0, 'distance': [203.8408030...  \n",
       "1  {'velocity': 12139.0, 'distance': [152.8216983...  \n",
       "2  {'velocity': 13460.0, 'distance': [173.4939324...  \n",
       "3  {'velocity': 13163.0, 'distance': [168.2161590...  \n",
       "4  {'velocity': 16064.0, 'distance': [205.5030648...  "
      ]
     },
     "execution_count": 11,
     "metadata": {},
     "output_type": "execute_result"
    }
   ],
   "source": [
    "N = len(data)\n",
    "print(\"Number of objects: \", N)\n",
    "\n",
    "## list of values\n",
    "ra = data.RA.values    # deg\n",
    "dec = data.Dec.values  # deg\n",
    "vls = data.Vls.values  # km/s\n",
    "\n",
    "output = DVcalculator_list(ra, dec, system='equatorial', parameter='velocity', \n",
    "                      values=vls, calculator='CF3')\n",
    "        \n",
    "## output is a python dictionary, that holds the results for all indivual galaxies in a \n",
    "## list under the \"results\" key. \n",
    "\n",
    "# assuming that all input values are valid and no error messages is present in the \"ouput\" dictionary\n",
    "results = pd.DataFrame.from_dict(output[\"results\"])\n",
    "\n",
    "results.head()"
   ]
  },
  {
   "cell_type": "markdown",
   "metadata": {},
   "source": [
    "### Preparing the output table\n",
    "\n",
    "Here, we append a few columns of the results table to the input data table. "
   ]
  },
  {
   "cell_type": "code",
   "execution_count": 12,
   "metadata": {},
   "outputs": [
    {
     "data": {
      "text/html": [
       "<div>\n",
       "<style scoped>\n",
       "    .dataframe tbody tr th:only-of-type {\n",
       "        vertical-align: middle;\n",
       "    }\n",
       "\n",
       "    .dataframe tbody tr th {\n",
       "        vertical-align: top;\n",
       "    }\n",
       "\n",
       "    .dataframe thead th {\n",
       "        text-align: right;\n",
       "    }\n",
       "</style>\n",
       "<table border=\"1\" class=\"dataframe\">\n",
       "  <thead>\n",
       "    <tr style=\"text-align: right;\">\n",
       "      <th></th>\n",
       "      <th>id</th>\n",
       "      <th>RA</th>\n",
       "      <th>Dec</th>\n",
       "      <th>Vls</th>\n",
       "      <th>Glon</th>\n",
       "      <th>Glat</th>\n",
       "      <th>SGL</th>\n",
       "      <th>SGB</th>\n",
       "      <th>velocity_observed</th>\n",
       "      <th>distance_observed</th>\n",
       "      <th>velocity_adjusted</th>\n",
       "      <th>distance_adjusted</th>\n",
       "    </tr>\n",
       "  </thead>\n",
       "  <tbody>\n",
       "    <tr>\n",
       "      <th>0</th>\n",
       "      <td>27</td>\n",
       "      <td>6.1965</td>\n",
       "      <td>-20.7324</td>\n",
       "      <td>16092</td>\n",
       "      <td>77.932226</td>\n",
       "      <td>-81.172227</td>\n",
       "      <td>274.476645</td>\n",
       "      <td>1.292975</td>\n",
       "      <td>16092.0</td>\n",
       "      <td>[214.17345220006362]</td>\n",
       "      <td>16092.0</td>\n",
       "      <td>[203.84080304808185]</td>\n",
       "    </tr>\n",
       "    <tr>\n",
       "      <th>1</th>\n",
       "      <td>76</td>\n",
       "      <td>9.8597</td>\n",
       "      <td>6.7340</td>\n",
       "      <td>12139</td>\n",
       "      <td>117.597324</td>\n",
       "      <td>-56.013414</td>\n",
       "      <td>301.905322</td>\n",
       "      <td>5.547911</td>\n",
       "      <td>12139.0</td>\n",
       "      <td>[159.25049636593025]</td>\n",
       "      <td>12139.0</td>\n",
       "      <td>[152.82169835169512]</td>\n",
       "    </tr>\n",
       "    <tr>\n",
       "      <th>2</th>\n",
       "      <td>119</td>\n",
       "      <td>14.0672</td>\n",
       "      <td>-1.2561</td>\n",
       "      <td>13460</td>\n",
       "      <td>125.697225</td>\n",
       "      <td>-64.101908</td>\n",
       "      <td>295.325855</td>\n",
       "      <td>-0.641415</td>\n",
       "      <td>13460.0</td>\n",
       "      <td>[181.12532913503836]</td>\n",
       "      <td>13460.0</td>\n",
       "      <td>[173.49393247053945]</td>\n",
       "    </tr>\n",
       "    <tr>\n",
       "      <th>3</th>\n",
       "      <td>147</td>\n",
       "      <td>17.1579</td>\n",
       "      <td>2.2684</td>\n",
       "      <td>13163</td>\n",
       "      <td>131.629351</td>\n",
       "      <td>-60.312676</td>\n",
       "      <td>299.558624</td>\n",
       "      <td>-2.659125</td>\n",
       "      <td>13163.0</td>\n",
       "      <td>[175.7747123236299]</td>\n",
       "      <td>13163.0</td>\n",
       "      <td>[168.21615909588016]</td>\n",
       "    </tr>\n",
       "    <tr>\n",
       "      <th>4</th>\n",
       "      <td>151</td>\n",
       "      <td>17.2130</td>\n",
       "      <td>-15.4072</td>\n",
       "      <td>16064</td>\n",
       "      <td>142.857767</td>\n",
       "      <td>-77.600088</td>\n",
       "      <td>282.446057</td>\n",
       "      <td>-7.349658</td>\n",
       "      <td>16064.0</td>\n",
       "      <td>[217.76641884693586]</td>\n",
       "      <td>16064.0</td>\n",
       "      <td>[205.50306486589014]</td>\n",
       "    </tr>\n",
       "  </tbody>\n",
       "</table>\n",
       "</div>"
      ],
      "text/plain": [
       "    id       RA      Dec    Vls        Glon       Glat         SGL       SGB  \\\n",
       "0   27   6.1965 -20.7324  16092   77.932226 -81.172227  274.476645  1.292975   \n",
       "1   76   9.8597   6.7340  12139  117.597324 -56.013414  301.905322  5.547911   \n",
       "2  119  14.0672  -1.2561  13460  125.697225 -64.101908  295.325855 -0.641415   \n",
       "3  147  17.1579   2.2684  13163  131.629351 -60.312676  299.558624 -2.659125   \n",
       "4  151  17.2130 -15.4072  16064  142.857767 -77.600088  282.446057 -7.349658   \n",
       "\n",
       "   velocity_observed     distance_observed  velocity_adjusted  \\\n",
       "0            16092.0  [214.17345220006362]            16092.0   \n",
       "1            12139.0  [159.25049636593025]            12139.0   \n",
       "2            13460.0  [181.12532913503836]            13460.0   \n",
       "3            13163.0   [175.7747123236299]            13163.0   \n",
       "4            16064.0  [217.76641884693586]            16064.0   \n",
       "\n",
       "      distance_adjusted  \n",
       "0  [203.84080304808185]  \n",
       "1  [152.82169835169512]  \n",
       "2  [173.49393247053945]  \n",
       "3  [168.21615909588016]  \n",
       "4  [205.50306486589014]  "
      ]
     },
     "execution_count": 12,
     "metadata": {},
     "output_type": "execute_result"
    }
   ],
   "source": [
    "data[\"Glon\"] = results[\"Glon\"]\n",
    "data[\"Glat\"] = results[\"Glat\"]\n",
    "data[\"SGL\"]  = results[\"SGL\"]\n",
    "data[\"SGB\"]  = results[\"SGB\"]\n",
    "\n",
    "data[\"velocity_observed\"] = results.apply(lambda row: row.observed[\"velocity\"], axis=1)\n",
    "data[\"distance_observed\"] = results.apply(lambda row: row.observed[\"distance\"], axis=1)\n",
    "data[\"velocity_adjusted\"] = results.apply(lambda row: row.adjusted[\"velocity\"], axis=1)\n",
    "data[\"distance_adjusted\"] = results.apply(lambda row: row.adjusted[\"distance\"], axis=1)\n",
    "\n",
    "data.head()"
   ]
  },
  {
   "cell_type": "code",
   "execution_count": 13,
   "metadata": {},
   "outputs": [],
   "source": [
    "# saving the resulting dataFrame that contains a distance column\n",
    "data.to_csv('output_api.csv')"
   ]
  },
  {
   "cell_type": "markdown",
   "metadata": {},
   "source": [
    "A copy of the output file is stored here: [output_api.csv](https://raw.githubusercontent.com/ekourkchi/Cosmicflows_API/main/output_api.csv)."
   ]
  },
  {
   "cell_type": "markdown",
   "metadata": {},
   "source": [
    "# Example 6\n",
    "\n",
    "## Using `curl` to make API requests\n",
    "\n",
    "- Prepare a JSON payload and save it in the same directory as this notebook. We call this file `input.json`.\n",
    "- Use `curl` or other favorite clients to send API requests\n",
    "- In this example, coordinates of 3 galaxies have been included in the payload\n",
    "- In the case of the third galaxy, Latitude is not valid as it should be between -90 and 90 degrees, which would be reflected in the corresponding record in the output JSON file "
   ]
  },
  {
   "cell_type": "code",
   "execution_count": 14,
   "metadata": {},
   "outputs": [
    {
     "name": "stdout",
     "output_type": "stream",
     "text": [
      "Overwriting input.json\n"
     ]
    }
   ],
   "source": [
    "%%writefile \"input.json\"\n",
    "\n",
    "{\n",
    "   \"galaxies\":[\n",
    "      {\n",
    "         \"coordinate\":[\n",
    "            6.19,\n",
    "            -20.73\n",
    "         ],\n",
    "         \"system\":\"equatorial\",\n",
    "         \"parameter\":\"distance\",\n",
    "         \"value\":10\n",
    "      },\n",
    "      {\n",
    "         \"coordinate\":[\n",
    "            102,\n",
    "            -2\n",
    "         ],\n",
    "         \"system\":\"supergalactic\",\n",
    "         \"parameter\":\"velocity\",\n",
    "         \"value\":1000\n",
    "      },    \n",
    "      {\n",
    "         \"coordinate\":[\n",
    "            50,\n",
    "            120\n",
    "         ],\n",
    "         \"system\":\"supergalactic\",\n",
    "         \"parameter\":\"velocity\",\n",
    "         \"value\":1000\n",
    "      }   \n",
    "   ]\n",
    "}"
   ]
  },
  {
   "cell_type": "markdown",
   "metadata": {},
   "source": [
    "### Making an API call"
   ]
  },
  {
   "cell_type": "code",
   "execution_count": 15,
   "metadata": {},
   "outputs": [
    {
     "name": "stdout",
     "output_type": "stream",
     "text": [
      "  % Total    % Received % Xferd  Average Speed   Time    Time     Time  Current\n",
      "                                 Dload  Upload   Total   Spent    Left  Speed\n",
      "100  1266    0   741  100   525    876    621 --:--:-- --:--:-- --:--:--  1496\n"
     ]
    }
   ],
   "source": [
    "out_file = \"output.json\"\n",
    "\n",
    "! curl -d @input.json -H \"Content-Type application/json\"  \\\n",
    "    http://edd.ifa.hawaii.edu/NAMcalculator/api.php > {out_file}"
   ]
  },
  {
   "cell_type": "markdown",
   "metadata": {},
   "source": [
    "### Loading the results\n",
    "\n",
    "Here, `out_dict` is a python dictionary."
   ]
  },
  {
   "cell_type": "code",
   "execution_count": 16,
   "metadata": {},
   "outputs": [
    {
     "data": {
      "text/plain": [
       "{'results': [{'message': 'Success',\n",
       "   'RA': 6.189995821927922,\n",
       "   'Dec': -20.730001917002962,\n",
       "   'Glon': 77.91345718958975,\n",
       "   'Glat': -81.16636061676385,\n",
       "   'SGL': 274.4771239185699,\n",
       "   'SGB': 1.2994936298831885,\n",
       "   'velocity': 813.8395156500653,\n",
       "   'distance': [10.0],\n",
       "   'peculiar_velocity': {'SG_Vx': -38.4, 'SG_Vy': -64.0, 'SG_Vz': 134.4}},\n",
       "  {'message': 'Success',\n",
       "   'RA': 187.7891703346409,\n",
       "   'Dec': 13.333860121247609,\n",
       "   'Glon': 282.9654677357161,\n",
       "   'Glat': 75.4136002414933,\n",
       "   'SGL': 102.0,\n",
       "   'SGB': -2.0,\n",
       "   'velocity': 1000.0,\n",
       "   'distance': [8.08088612690689, 18.786290885088945, 22.097850275812398]},\n",
       "  {'message': 'Wrong Input (value out of range)',\n",
       "   'RA': 50.0,\n",
       "   'Dec': 120.0,\n",
       "   'Glon': 50.0,\n",
       "   'Glat': 120.0,\n",
       "   'SGL': 50.0,\n",
       "   'SGB': 120.0,\n",
       "   'velocity': 1000.0,\n",
       "   'distance': [-1000]}]}"
      ]
     },
     "execution_count": 16,
     "metadata": {},
     "output_type": "execute_result"
    }
   ],
   "source": [
    "out_dict = json.load(open(out_file, \"r\"))\n",
    "\n",
    "out_dict"
   ]
  },
  {
   "cell_type": "markdown",
   "metadata": {},
   "source": [
    "### How to acknowledge this work\n",
    "\n",
    "*If you use the results of this work in your research or other applications, please cite [Kourkchi et al. 2020, AJ, 159, 67](https://ui.adsabs.harvard.edu/abs/2020AJ....159...67K/abstract).*"
   ]
  }
 ],
 "metadata": {
  "kernelspec": {
   "display_name": "Python 3",
   "language": "python",
   "name": "python3"
  },
  "language_info": {
   "codemirror_mode": {
    "name": "ipython",
    "version": 3
   },
   "file_extension": ".py",
   "mimetype": "text/x-python",
   "name": "python",
   "nbconvert_exporter": "python",
   "pygments_lexer": "ipython3",
   "version": "3.8.5"
  }
 },
 "nbformat": 4,
 "nbformat_minor": 4
}
