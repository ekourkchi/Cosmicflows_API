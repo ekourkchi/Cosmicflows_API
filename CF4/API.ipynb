{
 "cells": [
  {
   "cell_type": "markdown",
   "metadata": {},
   "source": [
    "# Cosmicflows-4 Distance-Velocity API\n",
    "\n",
    "This notebook explains how you can simply interact with Cosmicflows calculators within your *Python* code.\n",
    "\n",
    "**Note:** This API can be also queried in any programming language of choice.\n",
    "\n",
    "- Communication method: POST, GET\n",
    "- Input data: JSON \n",
    "\n",
    "**CF4 DV-calculator API:** http://edd.ifa.hawaii.edu/CF4calculator/api.php\n",
    "\n",
    "- Processing large lists of galaxies provided in JSON format. Below, `CF4_list` facilitates the data preparation for API calls. Refer to [Example 3](#example3) in this notebook for further details. The maximum number of galaxies per query is limited to 500."
   ]
  },
  {
   "cell_type": "markdown",
   "metadata": {},
   "source": [
    "## Python Example\n"
   ]
  },
  {
   "cell_type": "markdown",
   "metadata": {},
   "source": [
    "### Simply copy the following functions into your code\n",
    "\n",
    "The following code snippets provide interface functions to query each of the calculators.\n",
    "\n",
    "Required packages:\n",
    "\n",
    "- requests (to handle the online API requests)\n",
    "- json (to translate between Python dictionaries and json format)\n",
    "    "
   ]
  },
  {
   "cell_type": "code",
   "execution_count": 1,
   "metadata": {},
   "outputs": [],
   "source": [
    "import requests\n",
    "import json\n",
    "\n",
    "def CF4(alpha, delta, system='supergalactic', \n",
    "                 parameter='distance', value=20):\n",
    "    \n",
    "    \"\"\"\n",
    "    Inputs: \n",
    "        alpha: (float) [deg]\n",
    "            first coordinate parameter  (RA,  Glon, SGL)\n",
    "        delta: (float) [deg]\n",
    "            second coordinate parameter (Dec, Glat, SGB)  \n",
    "        system: (string)\n",
    "            coordinate system: \n",
    "            Options are:\n",
    "                \"equatorial\"\n",
    "                \"galactic\"\n",
    "                \"supergalactic\"\n",
    "        parameter: (string)\n",
    "            the quantity whose value is provided\n",
    "            Options are:\n",
    "                \"distance\"\n",
    "                \"velocity\"\n",
    "        value: (float)\n",
    "            the value of the input quantity\n",
    "            distance in [Mpc] and velocity in [km/s]\n",
    "        \n",
    "    Output:\n",
    "        A python dictionary which contains the distance and velocity of the \n",
    "        given object and the coordinate of the object in different systems\n",
    "\n",
    "    \"\"\"\n",
    "    \n",
    "    coordinate = [float(alpha), float(delta)]\n",
    "    query  = {\n",
    "              'coordinate': coordinate,\n",
    "              'system': system,\n",
    "              'parameter': parameter,\n",
    "              'value': float(value)\n",
    "             }\n",
    "    headers = {'Content-type': 'application/json'}\n",
    "    \n",
    "    API_url = 'http://edd.ifa.hawaii.edu/CF4calculator/api.php'\n",
    "    \n",
    "    try:\n",
    "        r = requests.get(API_url, data=json.dumps(query), headers=headers)\n",
    "        output = json.loads(r.text) # a python dictionary\n",
    "    except:\n",
    "        print(\"Something went wrong!\")  \n",
    "        print(\"Please check your intput parameters ...\")\n",
    "        output = None\n",
    "\n",
    "    return output"
   ]
  },
  {
   "cell_type": "markdown",
   "metadata": {},
   "source": [
    "### Large lists of galaxies\n",
    "\n",
    "- The following function, makes API calls with a large list of galaxies.\n",
    "- See \"example 5\" to learn how to submit a list of galaxies and process the returned results."
   ]
  },
  {
   "cell_type": "code",
   "execution_count": 2,
   "metadata": {},
   "outputs": [],
   "source": [
    "import requests\n",
    "import json\n",
    "\n",
    "def CF4_list(alpha_lst, delta_lst, system='supergalactic', \n",
    "                      parameter='distance', values=[20]):\n",
    "    \n",
    "    \"\"\"\n",
    "    Inputs: \n",
    "        alpha: [array] (float) [deg]\n",
    "            first coordinate parameter  (RA,  Glon, SGL)\n",
    "        delta: [array] (float) [deg]\n",
    "            second coordinate parameter (Dec, Glat, SGB)  \n",
    "        system: (string)\n",
    "            coordinate system: \n",
    "            Options are:\n",
    "                \"equatorial\"\n",
    "                \"galactic\"\n",
    "                \"supergalactic\"\n",
    "        parameter: (string)\n",
    "            the quantity whose value is provided\n",
    "            Options are:\n",
    "                \"distance\"\n",
    "                \"velocity\"\n",
    "        value: [array] (float)\n",
    "            the value of the input quantity\n",
    "            distance in [Mpc] and velocity in [km/s]\n",
    "        \n",
    "    Output:\n",
    "        A python dictionary which contains the distance and velocity of the \n",
    "        given object and the coordinate of the object in different systems\n",
    "\n",
    "    \"\"\"\n",
    "    \n",
    "    if len(alpha_lst)!=len(delta_lst) or len(delta_lst)!=len(values):\n",
    "        return {\"message\": \"Inconsistent sizes of the input arrays !\"}\n",
    "    \n",
    "    payload = {}\n",
    "    payload[\"galaxies\"] = []\n",
    "    \n",
    "    for i in range(len(alpha_lst)):\n",
    "        \n",
    "        coordinate = [float(alpha_lst[i]), float(delta_lst[i])]\n",
    "        galDict  = {\n",
    "                  'coordinate': coordinate,\n",
    "                  'system': system,\n",
    "                  'parameter': parameter,\n",
    "                  'value': float(values[i])\n",
    "                 }\n",
    "        \n",
    "        payload[\"galaxies\"].append(galDict)\n",
    "    \n",
    "    \n",
    "    headers = {'Content-type': 'application/json'}\n",
    "    \n",
    "    API_url = 'http://edd.ifa.hawaii.edu/CF4calculator/api.php'\n",
    "    \n",
    "    try:\n",
    "        r = requests.get(API_url, data=json.dumps(payload), headers=headers)\n",
    "        output = json.loads(r.text) # a python dictionary\n",
    "    except:\n",
    "        print(\"Something went wrong!\")  \n",
    "        print(\"Please check your intput parameters ...\")\n",
    "        output = None\n",
    "\n",
    "    return output"
   ]
  },
  {
   "cell_type": "markdown",
   "metadata": {},
   "source": [
    "## Example 1\n",
    "\n",
    "### Sending a request to the Cosmicflows-4 D-V calculator (d < 500 Mpc)\n",
    "http://edd.ifa.hawaii.edu/CF4calculator\n",
    "\n",
    "<img src=\"./cf4_1.png\" style=\"width: 75%\">"
   ]
  },
  {
   "cell_type": "code",
   "execution_count": 3,
   "metadata": {},
   "outputs": [
    {
     "data": {
      "text/plain": [
       "{'message': 'Success',\n",
       " 'RA': 187.78917,\n",
       " 'Dec': 13.33386,\n",
       " 'Glon': 282.96547,\n",
       " 'Glat': 75.4136,\n",
       " 'SGL': 102.0,\n",
       " 'SGB': -2.0,\n",
       " 'observed': {'velocity': 1000.0, 'distance': [16.48, 18.14, 22.96]}}"
      ]
     },
     "execution_count": 3,
     "metadata": {},
     "output_type": "execute_result"
    }
   ],
   "source": [
    "example_1 = CF4(102, -2, system='supergalactic', parameter='velocity', value=1000)\n",
    "\n",
    "example_1"
   ]
  },
  {
   "cell_type": "markdown",
   "metadata": {},
   "source": [
    "Here, **example_1** is a Python dictionary. The keys of the output dictionary are self explanatory.\n",
    "\n",
    "There is an additional key, **message** that holds the message of the backend code that generates the output values. In case of an unsuccessful API, *message* holds the cause of error that helps to correct the mistaken outputs.\n",
    "\n",
    "In the following cell we show how to extract distance from the output of the calucaltor. Please *note* that the generated distance is always provided as a list, becuase multiple distances can be associated to one radial velocity."
   ]
  },
  {
   "cell_type": "code",
   "execution_count": 4,
   "metadata": {},
   "outputs": [
    {
     "data": {
      "text/plain": [
       "[16.48, 18.14, 22.96]"
      ]
     },
     "execution_count": 4,
     "metadata": {},
     "output_type": "execute_result"
    }
   ],
   "source": [
    "distance_1 = example_1[\"observed\"][\"distance\"]\n",
    "\n",
    "distance_1"
   ]
  },
  {
   "cell_type": "markdown",
   "metadata": {},
   "source": [
    "#### Example 2\n",
    "\n",
    "<img src=\"./cf4_2.png\" style=\"width: 75%\">\n",
    "\n",
    "**How to extract the radial velocity of an object with a given distance**\n",
    "\n",
    "    SGL = 102 deg\n",
    "    SGB = -2 deg\n",
    "    Coordinate system = supergalactic\n",
    "    input distance = 250 Mpc\n",
    "    Calculator: CF4 (http://edd.ifa.hawaii.edu/CF4calculator)\n",
    "    \n"
   ]
  },
  {
   "cell_type": "code",
   "execution_count": 5,
   "metadata": {},
   "outputs": [
    {
     "data": {
      "text/plain": [
       "{'message': 'Success',\n",
       " 'RA': 187.78917,\n",
       " 'Dec': 13.33386,\n",
       " 'Glon': 282.96547,\n",
       " 'Glat': 75.4136,\n",
       " 'SGL': 102.0,\n",
       " 'SGB': -2.0,\n",
       " 'observed': {'velocity': 19190.43, 'distance': [250.0]},\n",
       " 'peculiar_velocity': {'SG_Vx': -461.45, 'SG_Vy': 775.58, 'SG_Vz': -3.99}}"
      ]
     },
     "execution_count": 5,
     "metadata": {},
     "output_type": "execute_result"
    }
   ],
   "source": [
    "example_2 = CF4(102, -2, system='supergalactic', parameter='distance', value=250)\n",
    "\n",
    "example_2"
   ]
  },
  {
   "cell_type": "markdown",
   "metadata": {},
   "source": [
    "The peculiar velocity of a test particle in the CF4 field is stored as `peculiar_velocity`. The velocity components are presented along the three coordinate axes of the Supergalactic Cartesian system."
   ]
  },
  {
   "cell_type": "markdown",
   "metadata": {},
   "source": [
    "<a id='example3'></a>\n",
    "# Example 3\n",
    "\n",
    "### API call for a large list of galaxies\n",
    "\n",
    "The updated version of this API is capable of processing large list of galaxies through a single call. The maximum number of galaxies per query is limited to 500.\n",
    "\n",
    "*Hint:* You can find our example input list (**test_api.csv**) [HERE](https://raw.githubusercontent.com/ekourkchi/Cosmicflows_API/main/test_api.csv).   "
   ]
  },
  {
   "cell_type": "markdown",
   "metadata": {},
   "source": [
    "### Loading the sample data set\n",
    "\n",
    "We use `pandas` package to read data from a csv file."
   ]
  },
  {
   "cell_type": "code",
   "execution_count": 6,
   "metadata": {},
   "outputs": [
    {
     "data": {
      "text/html": [
       "<div>\n",
       "<style scoped>\n",
       "    .dataframe tbody tr th:only-of-type {\n",
       "        vertical-align: middle;\n",
       "    }\n",
       "\n",
       "    .dataframe tbody tr th {\n",
       "        vertical-align: top;\n",
       "    }\n",
       "\n",
       "    .dataframe thead th {\n",
       "        text-align: right;\n",
       "    }\n",
       "</style>\n",
       "<table border=\"1\" class=\"dataframe\">\n",
       "  <thead>\n",
       "    <tr style=\"text-align: right;\">\n",
       "      <th></th>\n",
       "      <th>id</th>\n",
       "      <th>RA</th>\n",
       "      <th>Dec</th>\n",
       "      <th>Vls</th>\n",
       "    </tr>\n",
       "  </thead>\n",
       "  <tbody>\n",
       "    <tr>\n",
       "      <th>0</th>\n",
       "      <td>27</td>\n",
       "      <td>6.1965</td>\n",
       "      <td>-20.7324</td>\n",
       "      <td>16092</td>\n",
       "    </tr>\n",
       "    <tr>\n",
       "      <th>1</th>\n",
       "      <td>76</td>\n",
       "      <td>9.8597</td>\n",
       "      <td>6.7340</td>\n",
       "      <td>12139</td>\n",
       "    </tr>\n",
       "    <tr>\n",
       "      <th>2</th>\n",
       "      <td>119</td>\n",
       "      <td>14.0672</td>\n",
       "      <td>-1.2561</td>\n",
       "      <td>13460</td>\n",
       "    </tr>\n",
       "    <tr>\n",
       "      <th>3</th>\n",
       "      <td>147</td>\n",
       "      <td>17.1579</td>\n",
       "      <td>2.2684</td>\n",
       "      <td>13163</td>\n",
       "    </tr>\n",
       "    <tr>\n",
       "      <th>4</th>\n",
       "      <td>151</td>\n",
       "      <td>17.2130</td>\n",
       "      <td>-15.4072</td>\n",
       "      <td>16064</td>\n",
       "    </tr>\n",
       "    <tr>\n",
       "      <th>5</th>\n",
       "      <td>168</td>\n",
       "      <td>18.7404</td>\n",
       "      <td>0.4311</td>\n",
       "      <td>13597</td>\n",
       "    </tr>\n",
       "    <tr>\n",
       "      <th>6</th>\n",
       "      <td>189</td>\n",
       "      <td>20.8597</td>\n",
       "      <td>1.7049</td>\n",
       "      <td>9720</td>\n",
       "    </tr>\n",
       "    <tr>\n",
       "      <th>7</th>\n",
       "      <td>193</td>\n",
       "      <td>21.2814</td>\n",
       "      <td>8.6992</td>\n",
       "      <td>14676</td>\n",
       "    </tr>\n",
       "    <tr>\n",
       "      <th>8</th>\n",
       "      <td>194</td>\n",
       "      <td>21.4952</td>\n",
       "      <td>-1.3394</td>\n",
       "      <td>5495</td>\n",
       "    </tr>\n",
       "    <tr>\n",
       "      <th>9</th>\n",
       "      <td>195</td>\n",
       "      <td>21.7281</td>\n",
       "      <td>19.2139</td>\n",
       "      <td>12841</td>\n",
       "    </tr>\n",
       "  </tbody>\n",
       "</table>\n",
       "</div>"
      ],
      "text/plain": [
       "    id       RA      Dec    Vls\n",
       "0   27   6.1965 -20.7324  16092\n",
       "1   76   9.8597   6.7340  12139\n",
       "2  119  14.0672  -1.2561  13460\n",
       "3  147  17.1579   2.2684  13163\n",
       "4  151  17.2130 -15.4072  16064\n",
       "5  168  18.7404   0.4311  13597\n",
       "6  189  20.8597   1.7049   9720\n",
       "7  193  21.2814   8.6992  14676\n",
       "8  194  21.4952  -1.3394   5495\n",
       "9  195  21.7281  19.2139  12841"
      ]
     },
     "execution_count": 6,
     "metadata": {},
     "output_type": "execute_result"
    }
   ],
   "source": [
    "import pandas as pd\n",
    "import numpy as np\n",
    "\n",
    "# reading the list into a pandas dataFrame\n",
    "data = pd.read_csv(\"../test_api.csv\")\n",
    "\n",
    "# modifying the headers\n",
    "for col in data.columns:\n",
    "    newcol = col.split(\"(\")[0].strip()\n",
    "    data.rename(columns={col:newcol}, inplace=True)\n",
    "    \n",
    "data"
   ]
  },
  {
   "cell_type": "markdown",
   "metadata": {},
   "source": [
    "### Function `CF4_list`\n",
    "\n",
    "- (define above) preprocesses a list of galaxies and sends a large JSON payload that includes a possibly large list of galaxies. To avoid overloading, the maximum number of galaxies per query is limited to 500.\n",
    "\n",
    "- Returned distances are stored in a list, because in some cases multiple distances are mapped into the same distance.\n",
    "\n",
    "**Note:** The returned results are presented in the JSON format. In the following cell, we assume that all queried values in the list are valid and there is no error in the output results. In this case, the output JSON results could be simply transformed to a pandas dataframe."
   ]
  },
  {
   "cell_type": "code",
   "execution_count": 7,
   "metadata": {},
   "outputs": [
    {
     "name": "stdout",
     "output_type": "stream",
     "text": [
      "Number of objects:  10\n"
     ]
    },
    {
     "data": {
      "text/html": [
       "<div>\n",
       "<style scoped>\n",
       "    .dataframe tbody tr th:only-of-type {\n",
       "        vertical-align: middle;\n",
       "    }\n",
       "\n",
       "    .dataframe tbody tr th {\n",
       "        vertical-align: top;\n",
       "    }\n",
       "\n",
       "    .dataframe thead th {\n",
       "        text-align: right;\n",
       "    }\n",
       "</style>\n",
       "<table border=\"1\" class=\"dataframe\">\n",
       "  <thead>\n",
       "    <tr style=\"text-align: right;\">\n",
       "      <th></th>\n",
       "      <th>message</th>\n",
       "      <th>RA</th>\n",
       "      <th>Dec</th>\n",
       "      <th>Glon</th>\n",
       "      <th>Glat</th>\n",
       "      <th>SGL</th>\n",
       "      <th>SGB</th>\n",
       "      <th>observed</th>\n",
       "    </tr>\n",
       "  </thead>\n",
       "  <tbody>\n",
       "    <tr>\n",
       "      <th>0</th>\n",
       "      <td>Success</td>\n",
       "      <td>6.19650</td>\n",
       "      <td>-20.7324</td>\n",
       "      <td>77.93223</td>\n",
       "      <td>-81.17223</td>\n",
       "      <td>274.47665</td>\n",
       "      <td>1.29298</td>\n",
       "      <td>{'velocity': 16092.0, 'distance': [219.99]}</td>\n",
       "    </tr>\n",
       "    <tr>\n",
       "      <th>1</th>\n",
       "      <td>Success</td>\n",
       "      <td>9.85969</td>\n",
       "      <td>6.7340</td>\n",
       "      <td>117.59732</td>\n",
       "      <td>-56.01341</td>\n",
       "      <td>301.90532</td>\n",
       "      <td>5.54791</td>\n",
       "      <td>{'velocity': 12139.0, 'distance': [160.54]}</td>\n",
       "    </tr>\n",
       "    <tr>\n",
       "      <th>2</th>\n",
       "      <td>Success</td>\n",
       "      <td>14.06719</td>\n",
       "      <td>-1.2561</td>\n",
       "      <td>125.69723</td>\n",
       "      <td>-64.10191</td>\n",
       "      <td>295.32585</td>\n",
       "      <td>-0.64141</td>\n",
       "      <td>{'velocity': 13460.0, 'distance': [180.51]}</td>\n",
       "    </tr>\n",
       "    <tr>\n",
       "      <th>3</th>\n",
       "      <td>Success</td>\n",
       "      <td>17.15789</td>\n",
       "      <td>2.2684</td>\n",
       "      <td>131.62935</td>\n",
       "      <td>-60.31268</td>\n",
       "      <td>299.55862</td>\n",
       "      <td>-2.65912</td>\n",
       "      <td>{'velocity': 13163.0, 'distance': [176.03]}</td>\n",
       "    </tr>\n",
       "    <tr>\n",
       "      <th>4</th>\n",
       "      <td>Success</td>\n",
       "      <td>17.21300</td>\n",
       "      <td>-15.4072</td>\n",
       "      <td>142.85777</td>\n",
       "      <td>-77.60009</td>\n",
       "      <td>282.44606</td>\n",
       "      <td>-7.34966</td>\n",
       "      <td>{'velocity': 16064.0, 'distance': [221.26]}</td>\n",
       "    </tr>\n",
       "  </tbody>\n",
       "</table>\n",
       "</div>"
      ],
      "text/plain": [
       "   message        RA      Dec       Glon      Glat        SGL      SGB  \\\n",
       "0  Success   6.19650 -20.7324   77.93223 -81.17223  274.47665  1.29298   \n",
       "1  Success   9.85969   6.7340  117.59732 -56.01341  301.90532  5.54791   \n",
       "2  Success  14.06719  -1.2561  125.69723 -64.10191  295.32585 -0.64141   \n",
       "3  Success  17.15789   2.2684  131.62935 -60.31268  299.55862 -2.65912   \n",
       "4  Success  17.21300 -15.4072  142.85777 -77.60009  282.44606 -7.34966   \n",
       "\n",
       "                                      observed  \n",
       "0  {'velocity': 16092.0, 'distance': [219.99]}  \n",
       "1  {'velocity': 12139.0, 'distance': [160.54]}  \n",
       "2  {'velocity': 13460.0, 'distance': [180.51]}  \n",
       "3  {'velocity': 13163.0, 'distance': [176.03]}  \n",
       "4  {'velocity': 16064.0, 'distance': [221.26]}  "
      ]
     },
     "execution_count": 7,
     "metadata": {},
     "output_type": "execute_result"
    }
   ],
   "source": [
    "N = len(data)\n",
    "print(\"Number of objects: \", N)\n",
    "\n",
    "## list of values\n",
    "ra = data.RA.values    # deg\n",
    "dec = data.Dec.values  # deg\n",
    "vls = data.Vls.values  # km/s\n",
    "\n",
    "output = CF4_list(ra, dec, system='equatorial', parameter='velocity', \n",
    "                      values=vls)\n",
    "        \n",
    "## output is a python dictionary, that holds the results for all indivual galaxies in a \n",
    "## list under the \"results\" key. \n",
    "\n",
    "# assuming that all input values are valid and no error messages is present in the \"ouput\" dictionary\n",
    "results = pd.DataFrame.from_dict(output[\"results\"])\n",
    "\n",
    "results.head()"
   ]
  },
  {
   "cell_type": "markdown",
   "metadata": {},
   "source": [
    "### Preparing the output table\n",
    "\n",
    "Here, we append a few columns of the results table to the input data table. "
   ]
  },
  {
   "cell_type": "code",
   "execution_count": 8,
   "metadata": {},
   "outputs": [
    {
     "data": {
      "text/html": [
       "<div>\n",
       "<style scoped>\n",
       "    .dataframe tbody tr th:only-of-type {\n",
       "        vertical-align: middle;\n",
       "    }\n",
       "\n",
       "    .dataframe tbody tr th {\n",
       "        vertical-align: top;\n",
       "    }\n",
       "\n",
       "    .dataframe thead th {\n",
       "        text-align: right;\n",
       "    }\n",
       "</style>\n",
       "<table border=\"1\" class=\"dataframe\">\n",
       "  <thead>\n",
       "    <tr style=\"text-align: right;\">\n",
       "      <th></th>\n",
       "      <th>id</th>\n",
       "      <th>RA</th>\n",
       "      <th>Dec</th>\n",
       "      <th>Vls</th>\n",
       "      <th>Glon</th>\n",
       "      <th>Glat</th>\n",
       "      <th>SGL</th>\n",
       "      <th>SGB</th>\n",
       "      <th>velocity_observed</th>\n",
       "      <th>distance_observed</th>\n",
       "    </tr>\n",
       "  </thead>\n",
       "  <tbody>\n",
       "    <tr>\n",
       "      <th>0</th>\n",
       "      <td>27</td>\n",
       "      <td>6.1965</td>\n",
       "      <td>-20.7324</td>\n",
       "      <td>16092</td>\n",
       "      <td>77.93223</td>\n",
       "      <td>-81.17223</td>\n",
       "      <td>274.47665</td>\n",
       "      <td>1.29298</td>\n",
       "      <td>16092.0</td>\n",
       "      <td>[219.99]</td>\n",
       "    </tr>\n",
       "    <tr>\n",
       "      <th>1</th>\n",
       "      <td>76</td>\n",
       "      <td>9.8597</td>\n",
       "      <td>6.7340</td>\n",
       "      <td>12139</td>\n",
       "      <td>117.59732</td>\n",
       "      <td>-56.01341</td>\n",
       "      <td>301.90532</td>\n",
       "      <td>5.54791</td>\n",
       "      <td>12139.0</td>\n",
       "      <td>[160.54]</td>\n",
       "    </tr>\n",
       "    <tr>\n",
       "      <th>2</th>\n",
       "      <td>119</td>\n",
       "      <td>14.0672</td>\n",
       "      <td>-1.2561</td>\n",
       "      <td>13460</td>\n",
       "      <td>125.69723</td>\n",
       "      <td>-64.10191</td>\n",
       "      <td>295.32585</td>\n",
       "      <td>-0.64141</td>\n",
       "      <td>13460.0</td>\n",
       "      <td>[180.51]</td>\n",
       "    </tr>\n",
       "    <tr>\n",
       "      <th>3</th>\n",
       "      <td>147</td>\n",
       "      <td>17.1579</td>\n",
       "      <td>2.2684</td>\n",
       "      <td>13163</td>\n",
       "      <td>131.62935</td>\n",
       "      <td>-60.31268</td>\n",
       "      <td>299.55862</td>\n",
       "      <td>-2.65912</td>\n",
       "      <td>13163.0</td>\n",
       "      <td>[176.03]</td>\n",
       "    </tr>\n",
       "    <tr>\n",
       "      <th>4</th>\n",
       "      <td>151</td>\n",
       "      <td>17.2130</td>\n",
       "      <td>-15.4072</td>\n",
       "      <td>16064</td>\n",
       "      <td>142.85777</td>\n",
       "      <td>-77.60009</td>\n",
       "      <td>282.44606</td>\n",
       "      <td>-7.34966</td>\n",
       "      <td>16064.0</td>\n",
       "      <td>[221.26]</td>\n",
       "    </tr>\n",
       "  </tbody>\n",
       "</table>\n",
       "</div>"
      ],
      "text/plain": [
       "    id       RA      Dec    Vls       Glon      Glat        SGL      SGB  \\\n",
       "0   27   6.1965 -20.7324  16092   77.93223 -81.17223  274.47665  1.29298   \n",
       "1   76   9.8597   6.7340  12139  117.59732 -56.01341  301.90532  5.54791   \n",
       "2  119  14.0672  -1.2561  13460  125.69723 -64.10191  295.32585 -0.64141   \n",
       "3  147  17.1579   2.2684  13163  131.62935 -60.31268  299.55862 -2.65912   \n",
       "4  151  17.2130 -15.4072  16064  142.85777 -77.60009  282.44606 -7.34966   \n",
       "\n",
       "   velocity_observed distance_observed  \n",
       "0            16092.0          [219.99]  \n",
       "1            12139.0          [160.54]  \n",
       "2            13460.0          [180.51]  \n",
       "3            13163.0          [176.03]  \n",
       "4            16064.0          [221.26]  "
      ]
     },
     "execution_count": 8,
     "metadata": {},
     "output_type": "execute_result"
    }
   ],
   "source": [
    "data[\"Glon\"] = results[\"Glon\"]\n",
    "data[\"Glat\"] = results[\"Glat\"]\n",
    "data[\"SGL\"]  = results[\"SGL\"]\n",
    "data[\"SGB\"]  = results[\"SGB\"]\n",
    "\n",
    "data[\"velocity_observed\"] = results.apply(lambda row: row.observed[\"velocity\"], axis=1)\n",
    "data[\"distance_observed\"] = results.apply(lambda row: row.observed[\"distance\"], axis=1)\n",
    "\n",
    "data.head()"
   ]
  },
  {
   "cell_type": "code",
   "execution_count": 9,
   "metadata": {},
   "outputs": [],
   "source": [
    "# saving the resulting dataFrame that contains a distance column\n",
    "data.to_csv('output_api.csv')"
   ]
  },
  {
   "cell_type": "markdown",
   "metadata": {},
   "source": [
    "A copy of the output file is stored here: [output_api.csv](https://raw.githubusercontent.com/ekourkchi/Cosmicflows_API/main/output_api.csv)."
   ]
  },
  {
   "cell_type": "markdown",
   "metadata": {},
   "source": [
    "# Example 4\n",
    "\n",
    "## Using `curl` to make API requests\n",
    "\n",
    "- Prepare a JSON payload and save it in the same directory as this notebook. We call this file `input.json`.\n",
    "- Use `curl` or other favorite clients to send API requests\n",
    "- In this example, coordinates of 3 galaxies have been included in the payload\n",
    "- In the case of the third galaxy, Latitude is not valid as it should be between -90 and 90 degrees, which would be reflected in the corresponding record in the output JSON file "
   ]
  },
  {
   "cell_type": "code",
   "execution_count": 10,
   "metadata": {},
   "outputs": [
    {
     "name": "stdout",
     "output_type": "stream",
     "text": [
      "Overwriting input.json\n"
     ]
    }
   ],
   "source": [
    "%%writefile \"input.json\"\n",
    "\n",
    "{\n",
    "   \"galaxies\":[\n",
    "      {\n",
    "         \"coordinate\":[\n",
    "            6.19,\n",
    "            -20.73\n",
    "         ],\n",
    "         \"system\":\"equatorial\",\n",
    "         \"parameter\":\"distance\",\n",
    "         \"value\":10\n",
    "      },\n",
    "      {\n",
    "         \"coordinate\":[\n",
    "            102,\n",
    "            -2\n",
    "         ],\n",
    "         \"system\":\"supergalactic\",\n",
    "         \"parameter\":\"velocity\",\n",
    "         \"value\":1000\n",
    "      },    \n",
    "      {\n",
    "         \"coordinate\":[\n",
    "            50,\n",
    "            120\n",
    "         ],\n",
    "         \"system\":\"supergalactic\",\n",
    "         \"parameter\":\"velocity\",\n",
    "         \"value\":1000\n",
    "      }   \n",
    "   ]\n",
    "}"
   ]
  },
  {
   "cell_type": "markdown",
   "metadata": {},
   "source": [
    "### Making an API call"
   ]
  },
  {
   "cell_type": "code",
   "execution_count": 11,
   "metadata": {},
   "outputs": [
    {
     "name": "stdout",
     "output_type": "stream",
     "text": [
      "  % Total    % Received % Xferd  Average Speed   Time    Time     Time  Current\n",
      "                                 Dload  Upload   Total   Spent    Left  Speed\n",
      "100  1075    0   550  100   525    155    148  0:00:03  0:00:03 --:--:--   303\n"
     ]
    }
   ],
   "source": [
    "out_file = \"output.json\"\n",
    "\n",
    "! curl -d @input.json -H \"Content-Type application/json\"  \\\n",
    "    http://edd.ifa.hawaii.edu/CF4calculator/api.php > {out_file}"
   ]
  },
  {
   "cell_type": "markdown",
   "metadata": {},
   "source": [
    "### Loading the results\n",
    "\n",
    "Here, `out_dict` is a python dictionary."
   ]
  },
  {
   "cell_type": "code",
   "execution_count": 12,
   "metadata": {},
   "outputs": [
    {
     "data": {
      "text/plain": [
       "{'results': [{'message': 'Success',\n",
       "   'RA': 6.19,\n",
       "   'Dec': -20.73,\n",
       "   'Glon': 77.91346,\n",
       "   'Glat': -81.16636,\n",
       "   'SGL': 274.47712,\n",
       "   'SGB': 1.29949,\n",
       "   'observed': {'velocity': 989.33, 'distance': [10.0]},\n",
       "   'peculiar_velocity': {'SG_Vx': -288.85, 'SG_Vy': 96.51, 'SG_Vz': -345.08}},\n",
       "  {'message': 'Success',\n",
       "   'RA': 187.78917,\n",
       "   'Dec': 13.33386,\n",
       "   'Glon': 282.96547,\n",
       "   'Glat': 75.4136,\n",
       "   'SGL': 102.0,\n",
       "   'SGB': -2.0,\n",
       "   'observed': {'velocity': 1000.0, 'distance': [16.48, 18.14, 22.96]}},\n",
       "  {'message': 'Wrong Input (value out of range), Latitutde must be between -90 and 90 degrees'}]}"
      ]
     },
     "execution_count": 12,
     "metadata": {},
     "output_type": "execute_result"
    }
   ],
   "source": [
    "out_dict = json.load(open(out_file, \"r\"))\n",
    "\n",
    "out_dict"
   ]
  },
  {
   "cell_type": "markdown",
   "metadata": {},
   "source": [
    "### How to acknowledge this work\n",
    "\n",
    "*If you use the results of this work in your research or other applications, please cite \n",
    "\n",
    "- [Kourkchi et al. 2020, AJ, 159, 67](https://ui.adsabs.harvard.edu/abs/2020AJ....159...67K/abstract)\n",
    "- [Valade et al. 2024, Nature Astronomy, 234 (arXiv:2409.17261)](https://ui.adsabs.harvard.edu/abs/2024NatAs.tmp..234V/abstract)"
   ]
  },
  {
   "cell_type": "code",
   "execution_count": null,
   "metadata": {},
   "outputs": [],
   "source": []
  }
 ],
 "metadata": {
  "kernelspec": {
   "display_name": "Python 3 (ipykernel)",
   "language": "python",
   "name": "python3"
  },
  "language_info": {
   "codemirror_mode": {
    "name": "ipython",
    "version": 3
   },
   "file_extension": ".py",
   "mimetype": "text/x-python",
   "name": "python",
   "nbconvert_exporter": "python",
   "pygments_lexer": "ipython3",
   "version": "3.9.19"
  }
 },
 "nbformat": 4,
 "nbformat_minor": 4
}
